{
 "cells": [
  {
   "cell_type": "markdown",
   "id": "369f70b5",
   "metadata": {},
   "source": [
    "## image classification using cnn and tensorflow"
   ]
  },
  {
   "cell_type": "code",
   "execution_count": 4,
   "id": "10d8ddf9",
   "metadata": {},
   "outputs": [
    {
     "name": "stdout",
     "output_type": "stream",
     "text": [
      "types of room found: 3\n"
     ]
    }
   ],
   "source": [
    "import os\n",
    "import pandas as pd\n",
    "import numpy as np\n",
    "import matplotlib.pyplot as plt\n",
    "\n",
    "dataset_path = os.listdir(\"./dataset/\")\n",
    "room_types = os.listdir(\"./dataset/\")\n",
    "\n",
    "print(f\"types of room found: {len(room_types)}\")"
   ]
  },
  {
   "cell_type": "code",
   "execution_count": 8,
   "id": "6937bd39",
   "metadata": {},
   "outputs": [
    {
     "data": {
      "text/plain": [
       "[('bed_room', './dataset/bed_room/bed-1303451__340.jpg'),\n",
       " ('bed_room', './dataset/bed_room/bed-1846251__340.jpg'),\n",
       " ('bed_room', './dataset/bed_room/bed-3786264__340.jpg'),\n",
       " ('bed_room', './dataset/bed_room/bed-4065946__340.jpg'),\n",
       " ('bed_room', './dataset/bed_room/bed-4343379__340.jpg')]"
      ]
     },
     "execution_count": 8,
     "metadata": {},
     "output_type": "execute_result"
    }
   ],
   "source": [
    "rooms = []\n",
    "for item in room_types:\n",
    "    all_room_types = os.listdir('./dataset/'+item)\n",
    "    \n",
    "    for room in all_room_types:\n",
    "        rooms.append((item, str(\"./dataset/\"+item)+\"/\"+room))\n",
    "        \n",
    "rooms[:5]"
   ]
  },
  {
   "cell_type": "code",
   "execution_count": 9,
   "id": "0d348ddc",
   "metadata": {},
   "outputs": [
    {
     "name": "stdout",
     "output_type": "stream",
     "text": [
      "  room_type                                    image\n",
      "0  bed_room  ./dataset/bed_room/bed-1303451__340.jpg\n",
      "1  bed_room  ./dataset/bed_room/bed-1846251__340.jpg\n",
      "2  bed_room  ./dataset/bed_room/bed-3786264__340.jpg\n",
      "3  bed_room  ./dataset/bed_room/bed-4065946__340.jpg\n",
      "4  bed_room  ./dataset/bed_room/bed-4343379__340.jpg\n",
      "      room_type                                           image\n",
      "42  living_room  ./dataset/living_room/pexels-photo-245208.jpeg\n",
      "43  living_room  ./dataset/living_room/pexels-photo-275484.jpeg\n",
      "44  living_room  ./dataset/living_room/pexels-photo-276583.jpeg\n",
      "45  living_room  ./dataset/living_room/pexels-photo-276724.jpeg\n",
      "46  living_room  ./dataset/living_room/pexels-photo-279719.jpeg\n"
     ]
    }
   ],
   "source": [
    "#build a dataframe\n",
    "rooms_df = pd.DataFrame(data=rooms, columns=['room_type', \"image\"])\n",
    "print(rooms_df.head())\n",
    "print(rooms_df.tail())"
   ]
  },
  {
   "cell_type": "code",
   "execution_count": 10,
   "id": "b455ed9c",
   "metadata": {},
   "outputs": [
    {
     "name": "stdout",
     "output_type": "stream",
     "text": [
      "total no. of rooms in the dataset: 47\n"
     ]
    }
   ],
   "source": [
    "print(f\"total no. of rooms in the dataset: {len(rooms_df)}\")"
   ]
  },
  {
   "cell_type": "code",
   "execution_count": 11,
   "id": "6fee5aad",
   "metadata": {},
   "outputs": [
    {
     "name": "stdout",
     "output_type": "stream",
     "text": [
      "rooms in each category: \n",
      "living_room    24\n",
      "bed_room       12\n",
      "dining_room    11\n",
      "Name: room_type, dtype: int64\n"
     ]
    }
   ],
   "source": [
    "room_count = rooms_df[\"room_type\"].value_counts()\n",
    "print(\"rooms in each category: \")\n",
    "print(room_count)"
   ]
  },
  {
   "cell_type": "code",
   "execution_count": 12,
   "id": "62f4445e",
   "metadata": {},
   "outputs": [],
   "source": [
    "import cv2\n",
    "path = \"./dataset/\"\n",
    "img_size = 60\n",
    "\n",
    "images = []\n",
    "labels = []\n",
    "\n",
    "for i in room_types:\n",
    "    data_path = path+str(i)\n",
    "    filenames = [ i for i in os.listdir(data_path) ]\n",
    "    for f in filenames:\n",
    "        img = cv2.imread(data_path+\"/\"+f)\n",
    "        img = cv2.resize(img, (img_size, img_size))\n",
    "        images.append(img)\n",
    "        labels.append(i)"
   ]
  },
  {
   "cell_type": "code",
   "execution_count": 13,
   "id": "ae7af150",
   "metadata": {},
   "outputs": [
    {
     "data": {
      "text/plain": [
       "(47, 60, 60, 3)"
      ]
     },
     "execution_count": 13,
     "metadata": {},
     "output_type": "execute_result"
    }
   ],
   "source": [
    "#transform image array to a np type\n",
    "images = np.array(images)\n",
    "images.shape"
   ]
  },
  {
   "cell_type": "code",
   "execution_count": 14,
   "id": "b5b878a1",
   "metadata": {},
   "outputs": [],
   "source": [
    "images = images.astype(\"float32\")/255.0"
   ]
  },
  {
   "cell_type": "code",
   "execution_count": 15,
   "id": "95527c42",
   "metadata": {},
   "outputs": [
    {
     "data": {
      "text/plain": [
       "(47, 60, 60, 3)"
      ]
     },
     "execution_count": 15,
     "metadata": {},
     "output_type": "execute_result"
    }
   ],
   "source": [
    "images.shape"
   ]
  },
  {
   "cell_type": "code",
   "execution_count": 23,
   "id": "6a5c6fbe",
   "metadata": {},
   "outputs": [
    {
     "name": "stdout",
     "output_type": "stream",
     "text": [
      "['bed_room' 'bed_room' 'bed_room' 'bed_room' 'bed_room']\n"
     ]
    }
   ],
   "source": [
    "from sklearn.preprocessing import LabelEncoder, OneHotEncoder\n",
    "from sklearn.compose import ColumnTransformer\n",
    "\n",
    "y = rooms_df[\"room_type\"].values\n",
    "\n",
    "print(y[:5])"
   ]
  },
  {
   "cell_type": "code",
   "execution_count": 24,
   "id": "293fb104",
   "metadata": {},
   "outputs": [
    {
     "name": "stdout",
     "output_type": "stream",
     "text": [
      "[0 0 0 0 0 0 0 0 0 0 0 0 1 1 1 1 1 1 1 1 1 1 1 2 2 2 2 2 2 2 2 2 2 2 2 2 2\n",
      " 2 2 2 2 2 2 2 2 2 2]\n"
     ]
    }
   ],
   "source": [
    "#for y\n",
    "y_labelencoder = LabelEncoder()\n",
    "y = y_labelencoder.fit_transform(y)\n",
    "print(y)"
   ]
  },
  {
   "cell_type": "code",
   "execution_count": 26,
   "id": "31df6405",
   "metadata": {},
   "outputs": [
    {
     "data": {
      "text/plain": [
       "(47, 3)"
      ]
     },
     "execution_count": 26,
     "metadata": {},
     "output_type": "execute_result"
    }
   ],
   "source": [
    "y = y.reshape(-1,1)\n",
    "ct = ColumnTransformer([(\"room_type\", OneHotEncoder(), [0])], remainder = 'passthrough')\n",
    "Y = ct.fit_transform(y)\n",
    "Y.shape"
   ]
  },
  {
   "cell_type": "code",
   "execution_count": 33,
   "id": "042722c6",
   "metadata": {},
   "outputs": [],
   "source": [
    "#splitting dataset"
   ]
  },
  {
   "cell_type": "code",
   "execution_count": 32,
   "id": "3d8bdcb6",
   "metadata": {},
   "outputs": [
    {
     "name": "stdout",
     "output_type": "stream",
     "text": [
      "(42, 60, 60, 3)\n",
      "(42, 3)\n",
      "(5, 60, 60, 3)\n",
      "(5, 3)\n"
     ]
    }
   ],
   "source": [
    "from sklearn.utils import shuffle\n",
    "from sklearn.model_selection import train_test_split\n",
    "\n",
    "images, Y = shuffle(images, Y, random_state=42)\n",
    "\n",
    "train_x, test_x, train_y, test_y = train_test_split(images, Y, test_size=0.1, random_state=1)\n",
    "\n",
    "print(train_x.shape)\n",
    "print(train_y.shape)\n",
    "print(test_x.shape)\n",
    "print(test_y.shape)"
   ]
  },
  {
   "cell_type": "code",
   "execution_count": 38,
   "id": "8865d581",
   "metadata": {},
   "outputs": [
    {
     "name": "stdout",
     "output_type": "stream",
     "text": [
      "WARNING:tensorflow:From C:\\Users\\kesha\\AppData\\Local\\Programs\\Python\\Python311\\Lib\\site-packages\\tensorflow\\python\\compat\\v2_compat.py:107: disable_resource_variables (from tensorflow.python.ops.variable_scope) is deprecated and will be removed in a future version.\n",
      "Instructions for updating:\n",
      "non-resource variables are not supported in the long term\n"
     ]
    }
   ],
   "source": [
    "#training \n",
    "import tensorflow.compat.v1 as tf\n",
    "tf.disable_v2_behavior()\n",
    "\n",
    "num_classes = 3\n",
    "\n",
    "#flattened image\n",
    "i_input = 10800\n",
    "\n",
    "#hyperparameter\n",
    "learning_rate = 0.001\n",
    "trainin_iter = 10\n",
    "batch_size = 16"
   ]
  },
  {
   "cell_type": "code",
   "execution_count": 39,
   "id": "857848c1",
   "metadata": {},
   "outputs": [
    {
     "name": "stdout",
     "output_type": "stream",
     "text": [
      "shape of placeholder: (?, 60, 60, 3), (?, 3)\n"
     ]
    }
   ],
   "source": [
    "img_size = 60\n",
    "num_channels = 3\n",
    "\n",
    "x = tf.placeholder(tf.float32, shape=[None, img_size, img_size, num_channels]) #None, 60, 60, 3\n",
    "y_ = tf.placeholder(tf.float32, shape=[None, num_classes])\n",
    "\n",
    "print(f\"shape of placeholder: {x.shape}, {y_.shape}\")"
   ]
  },
  {
   "cell_type": "code",
   "execution_count": 41,
   "id": "58f1aad6",
   "metadata": {},
   "outputs": [],
   "source": [
    "def conv2d(x, w, b, strides=1):\n",
    "    x = tf.nn.conv2d(x, w, strides=[1, strides, strides, 1], padding='SAME')\n",
    "    x = tf.nn.bias_add(x, b)\n",
    "    return tf.nn.relu(x)\n",
    "\n",
    "def maxpool2d(x, k=2):\n",
    "    return tf.nn.max_pool(x, ksize=[1, k, k, 1], strides=[1,k,k,1], padding=\"SAME\")"
   ]
  },
  {
   "cell_type": "code",
   "execution_count": 42,
   "id": "24c5f87f",
   "metadata": {},
   "outputs": [],
   "source": [
    "weights = {\n",
    "    'w1': tf.Variable(tf.random_normal([5, 5, 3, 32]),name='w1'),\n",
    "    'w2': tf.Variable(tf.random_normal([5, 5, 32, 64]),name='w2'),\n",
    "    'w3': tf.Variable(tf.random_normal([5, 5, 64, 128]),name='w3'),\n",
    "    'wd1': tf.Variable(tf.random_normal([8 * 8 * 128, 2048]),name='wd1'),  \n",
    "    'wout': tf.Variable(tf.random_normal([2048, num_classes]),name='wout')\n",
    "}\n",
    "\n",
    "biases = {\n",
    "    'b1': tf.Variable(tf.random_normal([32]),name='b1'),\n",
    "    'b2': tf.Variable(tf.random_normal([64]),name='b2'),\n",
    "    'b3': tf.Variable(tf.random_normal([128]),name='b3'),\n",
    "    'bd1': tf.Variable(tf.random_normal([2048]),name='bd1'),\n",
    "    'bout': tf.Variable(tf.random_normal([num_classes]),name='bout')\n",
    "}"
   ]
  },
  {
   "cell_type": "code",
   "execution_count": 43,
   "id": "1f06e0fc",
   "metadata": {},
   "outputs": [],
   "source": [
    "def conv_net(x, weights, biases):\n",
    "        \n",
    "    # reshape input to 60x60x3 size\n",
    "    x = tf.reshape(x, shape=[-1, 60, 60, 3])  \n",
    "    \n",
    "    print(\"###########################################################################\")\n",
    "    print(\"size of x is\")\n",
    "    print(x.shape)\n",
    "    \n",
    "    conv1 = conv2d(x, weights['w1'], biases['b1'])\n",
    "    conv1 = maxpool2d(conv1, k=2)\n",
    "    print(\"###########################################################################\")\n",
    "    print(\"size after 1st conv layer is \")\n",
    "    print(conv1.shape)\n",
    "    \n",
    "    #input is 30*30*32 image\n",
    "    # Convolution Layer\n",
    "    conv2 = conv2d(conv1, weights['w2'], biases['b2'])\n",
    "    conv2 = maxpool2d(conv2, k=2)\n",
    "    print(\"###########################################################################\")\n",
    "    print(\"size after 2nd conv and pooling layer is\")\n",
    "    print(conv2.shape)\n",
    "    \n",
    "    ### third conv layer\n",
    "    # input is 15*15*64 image\n",
    "    # Convolution Layer\n",
    "    conv3 = conv2d(conv2, weights['w3'], biases['b3'])\n",
    "  \n",
    "    conv3 = maxpool2d(conv3, k=2)\n",
    "    print(\"###########################################################################\")\n",
    "    print(\"size after 3rd conv and pooling layer is\")\n",
    "    print(conv3.shape)\n",
    "    \n",
    "    #input is 8*8*128 \n",
    "\n",
    "    # Fully connected layer\n",
    "    # Reshape conv3 output to fit fully connected layer input   = 8*8*128 = 8192\n",
    "    fc1 = tf.reshape(conv3, [-1, weights['wd1'].get_shape().as_list()[0]])\n",
    "    print(\"###########################################################################\")\n",
    "    print(\"shape after flattening the image\")\n",
    "    print(fc1)  #8192 is the output\n",
    "    \n",
    "    fc1 = tf.add(tf.matmul(fc1, weights['wd1']), biases['bd1'])\n",
    "    fc1 = tf.nn.relu(fc1)\n",
    "    print(\"###########################################################################\")\n",
    "    print(\"shape after fully connected layer\")\n",
    "    print(fc1)\n",
    "    \n",
    "    # Output, class prediction\n",
    "    # finally we multiply the fully connected layer with the weights and add a bias term. \n",
    "    out = tf.add(tf.matmul(fc1, weights['wout']), biases['bout'])\n",
    "    print(\"###########################################################################\")\n",
    "    print(\"Output layer\")\n",
    "    return out"
   ]
  },
  {
   "cell_type": "code",
   "execution_count": 44,
   "id": "c95d1562",
   "metadata": {},
   "outputs": [
    {
     "name": "stdout",
     "output_type": "stream",
     "text": [
      "###########################################################################\n",
      "size of x is\n",
      "(?, 60, 60, 3)\n",
      "###########################################################################\n",
      "size after 1st conv layer is \n",
      "(?, 30, 30, 32)\n",
      "###########################################################################\n",
      "size after 2nd conv and pooling layer is\n",
      "(?, 15, 15, 64)\n",
      "###########################################################################\n",
      "size after 3rd conv and pooling layer is\n",
      "(?, 8, 8, 128)\n",
      "###########################################################################\n",
      "shape after flattening the image\n",
      "Tensor(\"Reshape_1:0\", shape=(?, 8192), dtype=float32)\n",
      "###########################################################################\n",
      "shape after fully connected layer\n",
      "Tensor(\"Relu_3:0\", shape=(?, 2048), dtype=float32)\n",
      "###########################################################################\n",
      "Output layer\n",
      "Tensor(\"Add_1:0\", shape=(?, 3), dtype=float32)\n"
     ]
    }
   ],
   "source": [
    "# Create the model\n",
    "model = conv_net(x, weights, biases)\n",
    "print(model)"
   ]
  },
  {
   "cell_type": "code",
   "execution_count": 45,
   "id": "e4d6c1dc",
   "metadata": {},
   "outputs": [
    {
     "name": "stdout",
     "output_type": "stream",
     "text": [
      "WARNING:tensorflow:From C:\\Users\\kesha\\AppData\\Local\\Programs\\Python\\Python311\\Lib\\site-packages\\tensorflow\\python\\util\\dispatch.py:1176: softmax_cross_entropy_with_logits (from tensorflow.python.ops.nn_ops) is deprecated and will be removed in a future version.\n",
      "Instructions for updating:\n",
      "\n",
      "Future major versions of TensorFlow will allow gradients to flow\n",
      "into the labels input on backprop by default.\n",
      "\n",
      "See `tf.nn.softmax_cross_entropy_with_logits_v2`.\n",
      "\n"
     ]
    }
   ],
   "source": [
    "# Define loss and optimizer\n",
    "cost = tf.reduce_mean(tf.nn.softmax_cross_entropy_with_logits(logits=model, labels=y_))\n",
    "optimizer = tf.train.AdamOptimizer(learning_rate=learning_rate).minimize(cost)"
   ]
  },
  {
   "cell_type": "code",
   "execution_count": 46,
   "id": "c0c4d64f",
   "metadata": {},
   "outputs": [],
   "source": [
    "# Initializing the variables\n",
    "init = tf.global_variables_initializer()"
   ]
  },
  {
   "cell_type": "code",
   "execution_count": 50,
   "id": "8662e89d",
   "metadata": {},
   "outputs": [
    {
     "name": "stdout",
     "output_type": "stream",
     "text": [
      "epoch :  0  -  cost:  3623597.2\n",
      "epoch :  1  -  cost:  4459202.5\n",
      "epoch :  2  -  cost:  6155002.5\n",
      "epoch :  3  -  cost:  5254596.0\n",
      "epoch :  4  -  cost:  4831837.5\n",
      "epoch :  5  -  cost:  3213131.8\n",
      "epoch :  6  -  cost:  1263566.9\n",
      "epoch :  7  -  cost:  963663.1\n",
      "epoch :  8  -  cost:  2343466.8\n",
      "epoch :  9  -  cost:  1503944.2\n"
     ]
    }
   ],
   "source": [
    "cost_history=[]\n",
    "n_epochs =10\n",
    "# the execution\n",
    "sess = tf.Session()\n",
    "sess.run(init)\n",
    "\n",
    "# train_X=train_X1.toarray()\n",
    "# test_X=test_X1.toarray()\n",
    "# train_y=train_y.toarray()\n",
    "# train_y=train_y.todense()\n",
    "\n",
    "for i in range(n_epochs):\n",
    "    a, c = sess.run([optimizer, cost], feed_dict={x: train_x, y_: train_y})  #working\n",
    "    cost_history = np.append(cost_history,c)  # working\n",
    "    print('epoch : ', i,  ' - ', 'cost: ', c) #working "
   ]
  },
  {
   "cell_type": "code",
   "execution_count": 51,
   "id": "93e811ad",
   "metadata": {},
   "outputs": [
    {
     "name": "stdout",
     "output_type": "stream",
     "text": [
      "Accuracy:  0.6\n"
     ]
    }
   ],
   "source": [
    "# test_y=test_y.todense()  #working solution of ValueError: setting an array element with a sequence.\n",
    "#print(test_y)\n",
    "\n",
    "correct_prediction = tf.equal(tf.argmax(model,1), tf.argmax(y_,1))   \n",
    "correct_prediction \n",
    "\n",
    "accuracy = tf.reduce_mean(tf.cast(correct_prediction, tf.float32))\n",
    "accuracy\n",
    "\n",
    "\n",
    "# retrun the accuracy on the test set.\n",
    "print(\"Accuracy: \", sess.run(accuracy, feed_dict={x: test_x, y_:test_y}))"
   ]
  },
  {
   "cell_type": "code",
   "execution_count": null,
   "id": "45a8f012",
   "metadata": {},
   "outputs": [],
   "source": []
  }
 ],
 "metadata": {
  "kernelspec": {
   "display_name": "Python 3 (ipykernel)",
   "language": "python",
   "name": "python3"
  },
  "language_info": {
   "codemirror_mode": {
    "name": "ipython",
    "version": 3
   },
   "file_extension": ".py",
   "mimetype": "text/x-python",
   "name": "python",
   "nbconvert_exporter": "python",
   "pygments_lexer": "ipython3",
   "version": "3.11.2"
  }
 },
 "nbformat": 4,
 "nbformat_minor": 5
}
